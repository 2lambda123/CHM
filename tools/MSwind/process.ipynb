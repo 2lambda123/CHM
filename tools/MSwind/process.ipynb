{
 "cells": [
  {
   "cell_type": "markdown",
   "metadata": {},
   "source": [
    "This takes an input dem and creates a subset of it suifficient for the Mason Sykes (MS) routine in DBSM. This subset needs to be a square extent of size power of 2.\n",
    "\n",
    "Change compiler to be your compiler of choice (e.g., gfortran)\n",
    "\n",
    "After creating the DEM and a zero-height vegetation DSM, this creates the required include file for the DBSM code and builds a correct copy of DBSM.\n",
    "\n",
    "On output, this creates 8 files named\n",
    "Windspeed_Normalized_1.asc\n",
    "to\n",
    "Windspeed_Normalized_8.asc\n",
    "\n",
    "The _[1-8] corresponds to the dd values in DBSM. These asc files can be used to parameterize CHM for the MS_wind model.\n",
    "\n",
    "parameter_files = {\n",
    "\t\t\t\t\t'MS1' : {'file':'Windspeed_Normalized_1.asc','method':'mean'},\n",
    "\t\t\t\t\t'MS2' : {'file':'Windspeed_Normalized_2.asc','method':'mean'},\n",
    "\t\t\t\t\t'MS3' : {'file':'Windspeed_Normalized_3.asc','method':'mean'},\n",
    "\t\t\t\t\t'MS4' : {'file':'Windspeed_Normalized_4.asc','method':'mean'},\n",
    "\t\t\t\t\t'MS5' : {'file':'Windspeed_Normalized_5.asc','method':'mean'},\n",
    "\t\t\t\t\t'MS6' : {'file':'Windspeed_Normalized_6.asc','method':'mean'},\n",
    "\t\t\t\t\t'MS7' : {'file':'Windspeed_Normalized_7.asc','method':'mean'},\n",
    "\t\t\t\t\t'MS8' : {'file':'Windspeed_Normalized_8.asc','method':'mean'},\n",
    "\t\t\t\t}"
   ]
  },
  {
   "cell_type": "code",
   "execution_count": 1,
   "metadata": {},
   "outputs": [],
   "source": [
    "get_ipython().magic('matplotlib inline')\n",
    "import numpy as np\n",
    "import pandas as pd\n",
    "import matplotlib.pyplot as plt\n",
    "import subprocess\n",
    "from osgeo import gdal,osr\n",
    "import os\n",
    "import affine"
   ]
  },
  {
   "cell_type": "code",
   "execution_count": 2,
   "metadata": {},
   "outputs": [],
   "source": [
    "def read_column_to_2d(filein,dxdy):\n",
    "    df = pd.read_csv(filein,delimiter ='\\t',header=None,engine='python')\n",
    "    df2 = pd.DataFrame(df[0].values.reshape(dxdy,dxdy))\n",
    "    return df2\n"
   ]
  },
  {
   "cell_type": "code",
   "execution_count": 3,
   "metadata": {},
   "outputs": [
    {
     "name": "stdout",
     "output_type": "stream",
     "text": [
      "9397\n",
      "11289\n"
     ]
    }
   ],
   "source": [
    "col=28192\n",
    "row=22579\n",
    "\n",
    "print col/3\n",
    "print row/2"
   ]
  },
  {
   "cell_type": "code",
   "execution_count": 4,
   "metadata": {},
   "outputs": [
    {
     "data": {
      "text/plain": [
       "4096"
      ]
     },
     "execution_count": 4,
     "metadata": {},
     "output_type": "execute_result"
    }
   ],
   "source": [
    "2048*2"
   ]
  },
  {
   "cell_type": "code",
   "execution_count": 5,
   "metadata": {},
   "outputs": [
    {
     "name": "stdout",
     "output_type": "stream",
     "text": [
      "(477561.35152039694, 1.0, 0.0, 6724077.5, 0.0, -1.0)\n"
     ]
    },
    {
     "data": {
      "text/plain": [
       "(-477562, 6723975)"
      ]
     },
     "execution_count": 5,
     "metadata": {},
     "output_type": "execute_result"
    }
   ],
   "source": [
    "def retrieve_pixel_value(geo_coord, data_source):\n",
    "    \"\"\"Return floating-point value that corresponds to given point.\"\"\"\n",
    "    x, y = geo_coord[0], geo_coord[1]\n",
    "    forward_transform =  \\\n",
    "        affine.Affine.from_gdal(*data_source.GetGeoTransform())\n",
    "    reverse_transform = ~forward_transform\n",
    "    px, py = reverse_transform * (x, y)\n",
    "    px, py = int(px + 0.5), int(py + 0.5)\n",
    "    pixel_coord = px, py\n",
    "\n",
    "    data_array = np.array(data_source.GetRasterBand(1).ReadAsArray())\n",
    "    return data_array[pixel_coord[0]][pixel_coord[1]]\n",
    "def retrieve_pixel_offset(geo_coord, data_source):\n",
    "    \"\"\"Return floating-point value that corresponds to given point.\"\"\"\n",
    "    x, y = geo_coord[0], geo_coord[1]\n",
    "    forward_transform =  \\\n",
    "        affine.Affine.from_gdal(*data_source.GetGeoTransform())\n",
    "    reverse_transform = ~forward_transform\n",
    "    px, py = reverse_transform * (x, y)\n",
    "    px, py = int(px + 0.5), int(py + 0.5)\n",
    "    return (px, py)\n",
    "\n",
    "dem = 'merged1.tif'  \n",
    "ds = gdal.Open(dem)\n",
    "gt= ds.GetGeoTransform()\n",
    "print gt\n",
    "\n",
    "retrieve_pixel_offset((-2,103,062.671,2,834,268.050),ds)\n",
    "# mx=484305.763\n",
    "# my=6716330.598\n",
    "# px = int((mx - gt[0]) / gt[1]) #x pixel\n",
    "# py = int((my - gt[3]) / gt[1]) #y pixel\n",
    "\n",
    "# print px,py"
   ]
  },
  {
   "cell_type": "code",
   "execution_count": 6,
   "metadata": {},
   "outputs": [],
   "source": [
    "dem='merged1.tif'\n",
    "ds = gdal.Open(dem)\n",
    "size = 4096\n",
    "\n",
    "outdem = dem + '_MS.asc'\n",
    "rasterinfo =  ''\n",
    "with open(outdem) as f:\n",
    "    rasterinfo = [next(f) for x in xrange(6)]\n"
   ]
  },
  {
   "cell_type": "code",
   "execution_count": 7,
   "metadata": {},
   "outputs": [
    {
     "name": "stdout",
     "output_type": "stream",
     "text": [
      "(6744, 7747)\n",
      "gdal_translate -srcwin 9750 9500 4096 4096 -of AAIGrid merged1.tif merged1.tif_MS.asc\n"
     ]
    }
   ],
   "source": [
    "#full path doesn't seem to work, needs to be in the same dir\n",
    "# dem = 'yt1.tif' \n",
    "# dem='wolf1m_fill1.tif'\n",
    "dem='merged1.tif'\n",
    "ds = gdal.Open(dem)\n",
    "\n",
    "\n",
    "off=retrieve_pixel_offset([484305.763,6716330.598],ds)\n",
    "print off\n",
    "#pixel coordinate offset to start at\n",
    "# offx = 800\n",
    "# offy = 500\n",
    "\n",
    "offx=9750\n",
    "offy=9500\n",
    "\n",
    "#must be power of 2\n",
    "size = 4096\n",
    "compiler = 'ifort'\n",
    "\n",
    "\n",
    "#build up the power of 2 dem as a subset of the maindem\n",
    "outdem = dem + '_MS.asc'\n",
    "cmd = 'gdal_translate -srcwin %i %i %i %i -of AAIGrid %s %s' % \\\n",
    "       (offx, offy, size, size, dem, outdem)\n",
    "subprocess.check_output(cmd, shell=True)\n",
    "print cmd\n",
    "\n",
    "outdem_veg = dem + '_MS_veg.asc'\n",
    "cmd = 'gdal_translate -srcwin %i %i %i %i -scale 0 999999 0 0 -of AAIGrid %s %s' % \\\n",
    "       (offx, offy, size, size, dem, outdem_veg)\n",
    "subprocess.check_output(cmd, shell=True)\n",
    "\n",
    "ds = gdal.Open(dem)\n",
    "dxdy = ds.GetGeoTransform()[1] ##assume square pixels\n",
    "\n",
    "#hyper sensitivity to this formating...don't add a space infront of the two &\n",
    "param = \"\\t\\tparameter ( \\n\\\n",
    "     &            n = %i   \\n\\\n",
    "     &,           dt = 1800. \\n \\\n",
    "    &,           dx = %i \\n\\\n",
    "     &,           nsteps = 1 \\n\\\n",
    "     &,           sx = 206 \\n\\\n",
    "     &,           sy = 171 \\n\\\n",
    "     &,           met_file = 'tvc_9697_met.txt' \\n \\\n",
    "    &,           topo_file = '%s'     \\n\\\n",
    "     &,           veg_file = '%s'   \\n\\\n",
    "     &          )\\n\" \\\n",
    "%(size,dxdy,outdem,outdem_veg)\n",
    "\n",
    "with open('site_params.inc', \"w\") as text_file:\n",
    "    text_file.write(param)\n",
    "\n",
    "cmd = '%s dbsm.f -O3 -o dbsm' % (compiler)\n",
    "subprocess.check_output(cmd, shell=True)\n",
    "    \n",
    "rasterinfo =  ''\n",
    "with open(outdem) as f:\n",
    "    rasterinfo = [next(f) for x in xrange(6)]\n",
    "\n",
    "#remove the ascii header\n",
    "# lines = open(outdem).readlines()\n",
    "# open(outdem, 'w').writelines(lines[6:])\n",
    "\n",
    "# lines = open(outdem_veg).readlines()\n",
    "# open(outdem_veg, 'w').writelines(lines[6:])"
   ]
  },
  {
   "cell_type": "code",
   "execution_count": 8,
   "metadata": {},
   "outputs": [
    {
     "data": {
      "text/plain": [
       "''"
      ]
     },
     "execution_count": 8,
     "metadata": {},
     "output_type": "execute_result"
    }
   ],
   "source": [
    "subprocess.check_output('./dbsm', shell=True)"
   ]
  },
  {
   "cell_type": "code",
   "execution_count": 9,
   "metadata": {},
   "outputs": [],
   "source": [
    "dem_file = r'DEMsmooth.txt'\n",
    "df_dem = read_column_to_2d(dem_file,size)"
   ]
  },
  {
   "cell_type": "code",
   "execution_count": 11,
   "metadata": {},
   "outputs": [],
   "source": [
    "srs = osr.SpatialReference()\n",
    "wkt = ds.GetProjection()\n",
    "srs.ImportFromWkt(wkt)\n",
    "proj4 = srs.ExportToProj4()\n",
    "\n",
    "suffix = ['' , '_U_', '_V_']\n",
    "\n",
    "for s in suffix:\n",
    "    for i in range(7,9):#range(1,9): #match fortran's number\n",
    "        WS_file = 'Windspeed_Normalized_'+s+str(i)+'.txt'\n",
    "        windout = 'Windspeed_Normalized_'+s+str(i)+'.asc'\n",
    "        windout_tif = 'Windspeed_Normalized_'+s+str(i)+'.tif'\n",
    "        df_WS = read_column_to_2d(WS_file,size)\n",
    "\n",
    "        df_WS.to_csv(windout,sep=' ',header=False,index=False)\n",
    "\n",
    "        lines = open(windout).readlines()\n",
    "\n",
    "        with open(windout,'w') as file:\n",
    "            file.writelines(rasterinfo)\n",
    "            file.writelines(lines)\n",
    "\n",
    "        # we can apply a projection to the asc files, which end up as .aux.xml files. However neither \n",
    "        # GDAL or Arc seems to read these files. So if we convert it to a tif, we can then embed the projection\n",
    "        # into the file and everything works\n",
    "        #convert the asc to tif\n",
    "        cmd = 'gdalwarp -overwrite \\'%s\\' \\'%s\\'' % (windout,windout_tif)\n",
    "        subprocess.check_output(cmd, shell=True)\n",
    "\n",
    "        #set the project\n",
    "        cmd = '/usr/local/opt/gdal2-python/bin/gdal_edit.py -a_srs \\'%s\\' \\'%s\\'' % (proj4,windout_tif)\n",
    "        subprocess.check_output(cmd, shell=True)\n",
    "\n",
    "        os.remove(windout)\n"
   ]
  },
  {
   "cell_type": "code",
   "execution_count": null,
   "metadata": {},
   "outputs": [],
   "source": [
    "f1, (ax1,ax2,ax3) = plt.subplots(ncols=3)\n",
    "f1.set_size_inches(16, 4.5)\n",
    "\n",
    "p1 = ax1.imshow(df_dem)\n",
    "f1.colorbar(p1, ax=ax1)\n",
    "ax1.set_title('DEM')\n",
    "\n",
    "p2 = ax2.imshow(df_WS)\n",
    "f1.colorbar(p2, ax=ax2)\n",
    "ax2.set_title('wind speed up')"
   ]
  },
  {
   "cell_type": "code",
   "execution_count": null,
   "metadata": {},
   "outputs": [],
   "source": [
    "def wind(dir):\n",
    "    d = dir/45.\n",
    "    if d==0:\n",
    "        d=8\n",
    "    return d\n",
    "print wind(0) \n",
    "print wind(45) \n",
    "print wind(90) \n",
    "print wind(135) \n",
    "print wind(180) \n",
    "print wind(225) \n",
    "print wind(270) \n",
    "print wind(315) \n",
    "print wind(360) "
   ]
  },
  {
   "cell_type": "code",
   "execution_count": null,
   "metadata": {},
   "outputs": [],
   "source": [
    "270+45\n"
   ]
  }
 ],
 "metadata": {
  "kernelspec": {
   "display_name": "Python 2",
   "language": "python",
   "name": "python2"
  },
  "language_info": {
   "codemirror_mode": {
    "name": "ipython",
    "version": 2
   },
   "file_extension": ".py",
   "mimetype": "text/x-python",
   "name": "python",
   "nbconvert_exporter": "python",
   "pygments_lexer": "ipython2",
   "version": "2.7.15"
  }
 },
 "nbformat": 4,
 "nbformat_minor": 2
}
