{
 "worksheets": [
  {
   "cells": [
    {
     "cell_type": "code",
     "execution_count": null,
     "metadata": {},
     "outputs": [],
     "input": [
      "import matplotlib.pyplot as plt\n",
      "%matplotlib inline  \n",
      "import pandas as pd\n",
      "import numpy as np\n",
      "import scipy as sp\n",
      "plt.rcParams['figure.figsize']=[15,5]\n",
      "\n",
      "import snowpack_io as spio"
     ],
     "language": "python",
     "prompt_number": 61
    },
    {
     "cell_type": "code",
     "execution_count": null,
     "metadata": {},
     "outputs": [],
     "input": [
      "infile = \"uc_xref.txt\"\n",
      "outfile = 'snowpack/input/UC.smet'"
     ],
     "language": "python",
     "prompt_number": 62
    },
    {
     "cell_type": "code",
     "execution_count": null,
     "metadata": {},
     "outputs": [],
     "input": [
      "obs = pd.read_csv(infile,sep=\",\",parse_dates=[0])\n",
      "obs.set_index('Date',inplace=True)"
     ],
     "language": "python",
     "prompt_number": 63
    },
    {
     "cell_type": "code",
     "execution_count": null,
     "metadata": {},
     "outputs": [
      {
       "output_type": "stream",
       "stream": "stdout",
       "text": [
        "2007-10-01 01:00:00\n",
        "2013-10-01 00:00:00\n"
       ]
      }
     ],
     "input": [
      "print str(obs.index[0])\n",
      "print str(obs.index[-1])"
     ],
     "language": "python",
     "prompt_number": 64
    },
    {
     "cell_type": "code",
     "execution_count": null,
     "metadata": {},
     "outputs": [],
     "input": [
      "obs = obs[['iswr','t','rh','vw','p','ilwr']]\n",
      "obs.columns=['ISWR','TA','RH','VW','PSUM','ILWR']"
     ],
     "language": "python",
     "prompt_number": 65
    },
    {
     "cell_type": "code",
     "execution_count": null,
     "metadata": {},
     "outputs": [],
     "input": [
      "obs['TA'] = obs['TA'] + 273.15\n",
      "obs['RH'] = obs['RH'] / 100."
     ],
     "language": "python",
     "prompt_number": 66
    },
    {
     "cell_type": "code",
     "execution_count": null,
     "metadata": {},
     "outputs": [],
     "input": [
      "base,header = spio.readSmetFile('snowpack/input/UC.smet')"
     ],
     "language": "python",
     "prompt_number": 67
    },
    {
     "cell_type": "code",
     "execution_count": null,
     "metadata": {},
     "outputs": [
      {
       "output_type": "stream",
       "stream": "stdout",
       "text": [
        "2007-10-01 01:00:00\n",
        "2013-10-01 00:00:00\n"
       ]
      }
     ],
     "input": [
      "print str(base.index[0])\n",
      "print str(base.index[-1])"
     ],
     "language": "python",
     "prompt_number": 68
    },
    {
     "cell_type": "code",
     "execution_count": null,
     "metadata": {},
     "outputs": [],
     "input": [
      "spio.writeSmetfile(outfile,header,obs)"
     ],
     "language": "python",
     "prompt_number": 69
    },
    {
     "cell_type": "code",
     "execution_count": null,
     "metadata": {},
     "outputs": [],
     "input": [
      "#obs.to_csv(outfile,date_format='%Y-%m-%dT%H:%M',sep=' ')"
     ],
     "language": "python",
     "prompt_number": 70
    },
    {
     "cell_type": "code",
     "execution_count": null,
     "metadata": {},
     "outputs": [],
     "input": [
      ""
     ],
     "language": "python",
     "prompt_number": 70
    }
   ]
  }
 ],
 "cells": [],
 "metadata": {
  "name": "",
  "signature": "sha256:59b579595f33e8e6c977b79fcfa0737d21a4a42094df58987ec6c16a4fb4107a"
 },
 "nbformat": 3,
 "nbformat_minor": 0
}