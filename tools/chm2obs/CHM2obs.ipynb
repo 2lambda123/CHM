{
 "worksheets": [
  {
   "cells": [
    {
     "cell_type": "code",
     "execution_count": null,
     "metadata": {},
     "outputs": [],
     "input": [
      "import matplotlib.pyplot as plt\n",
      "%matplotlib inline  \n",
      "import pandas as pd\n",
      "import numpy as np\n",
      "import scipy as sp\n",
      "plt.rcParams['figure.figsize']=[15,5]"
     ],
     "language": "python",
     "prompt_number": 1
    },
    {
     "cell_type": "code",
     "execution_count": null,
     "metadata": {},
     "outputs": [],
     "input": [
      "infile = \"uc_xref.txt\"\n",
      "outfile = 'uc_crhm.obs'"
     ],
     "language": "python",
     "prompt_number": 2
    },
    {
     "cell_type": "code",
     "execution_count": null,
     "metadata": {},
     "outputs": [],
     "input": [
      "obs = pd.read_csv(infile,sep=\",\",parse_dates=[0])\n",
      "obs.set_index('Date',inplace=True)"
     ],
     "language": "python",
     "prompt_number": 3
    },
    {
     "cell_type": "code",
     "execution_count": null,
     "metadata": {},
     "outputs": [],
     "input": [
      "if obs.index[0].hour == 0:\n",
      "    start = str(obs.index[1])\n",
      "    \n",
      "    obs =  obs[start:]"
     ],
     "language": "python",
     "prompt_number": 4
    },
    {
     "cell_type": "code",
     "execution_count": null,
     "metadata": {},
     "outputs": [],
     "input": [
      "obs = obs[['iswr','t','rh','vw','p','ilwr']]\n",
      "obs.columns=['Qsi','t','rh','u','p','Qli']"
     ],
     "language": "python",
     "prompt_number": 5
    },
    {
     "cell_type": "code",
     "execution_count": null,
     "metadata": {},
     "outputs": [],
     "input": [
      "obs.to_csv(outfile,date_format='%Y %m %d %H %M',sep='\\t')"
     ],
     "language": "python",
     "prompt_number": 6
    },
    {
     "cell_type": "code",
     "execution_count": null,
     "metadata": {},
     "outputs": [],
     "input": [
      "lines=''\n",
      "header=''\n",
      "with open(outfile,'rw') as f:\n",
      "    header = f.readline()\n",
      "    lines = f.readlines()\n",
      "\n",
      "\n",
      "header = header.replace('Date\\t','').strip().split('\\t')\n",
      "\n",
      "with open(outfile,'w') as f:\n",
      "    f.write('Converted CHM2CRHM obs file\\r\\n')\n",
      "    for h in header:\n",
      "        f.write(h+'\\t1\\r\\n');\n",
      "        \n",
      "    f.write('$ea ea(t, rh)\\r\\n')\n",
      "    f.write('##############\\r\\n')\n",
      "    \n",
      "    for l in lines:\n",
      "        f.write(l.replace('\\n','\\r\\n'))"
     ],
     "language": "python",
     "prompt_number": 7
    },
    {
     "cell_type": "code",
     "execution_count": null,
     "metadata": {},
     "outputs": [],
     "input": [
      ""
     ],
     "language": "python",
     "prompt_number": 7
    }
   ]
  }
 ],
 "cells": [],
 "metadata": {
  "name": "",
  "signature": "sha256:e97278ba7a6746bee507b213d13dfccbc5ee7698d25ce857c70616320b36ef76"
 },
 "nbformat": 3,
 "nbformat_minor": 0
}